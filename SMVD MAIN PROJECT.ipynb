{
 "cells": [
  {
   "cell_type": "code",
   "execution_count": 18,
   "id": "a199ff07-3f4d-4861-a5aa-4c5f21fce17c",
   "metadata": {},
   "outputs": [],
   "source": [
    "import pandas as pd\n",
    "import matplotlib.pyplot as plt\n",
    "import seaborn as sns"
   ]
  },
  {
   "cell_type": "code",
   "execution_count": 19,
   "id": "2c2fdeda-03c8-4321-8b4b-a1d1b08f10a5",
   "metadata": {},
   "outputs": [
    {
     "name": "stdout",
     "output_type": "stream",
     "text": [
      "     product_id product_category_name  product_weight_g  product_length_cm  \\\n",
      "0  1slxdgbgWFax                  toys              50.0               16.0   \n",
      "1  77PgsiElQLeB           electronics             200.0               21.0   \n",
      "2  QVlD26X1y7NI       furniture_decor            1000.0              100.0   \n",
      "\n",
      "   product_height_cm  product_width_cm  \n",
      "0                5.0              11.0  \n",
      "1                7.0              14.0  \n",
      "2                5.0              20.0  \n"
     ]
    }
   ],
   "source": [
    "df = pd.read_csv(\"df_Customers.csv\")\n",
    "print(df.head(3))"
   ]
  },
  {
   "cell_type": "code",
   "execution_count": 20,
   "id": "a79218e3-ba27-4715-94e5-ba2de1932e70",
   "metadata": {},
   "outputs": [
    {
     "name": "stdout",
     "output_type": "stream",
     "text": [
      "<class 'pandas.core.frame.DataFrame'>\n",
      "RangeIndex: 38279 entries, 0 to 38278\n",
      "Data columns (total 6 columns):\n",
      " #   Column                 Non-Null Count  Dtype  \n",
      "---  ------                 --------------  -----  \n",
      " 0   product_id             38279 non-null  object \n",
      " 1   product_category_name  38279 non-null  object \n",
      " 2   product_weight_g       38279 non-null  float64\n",
      " 3   product_length_cm      38279 non-null  float64\n",
      " 4   product_height_cm      38279 non-null  float64\n",
      " 5   product_width_cm       38279 non-null  float64\n",
      "dtypes: float64(4), object(2)\n",
      "memory usage: 1.8+ MB\n",
      "None\n",
      "       product_weight_g  product_length_cm  product_height_cm  \\\n",
      "count      38279.000000       38279.000000       38279.000000   \n",
      "mean        2118.102014          30.314977          16.503801   \n",
      "std         3827.175053          16.256152          13.368879   \n",
      "min            0.000000           7.000000           2.000000   \n",
      "25%          300.000000          18.000000           8.000000   \n",
      "50%          700.000000          25.000000          13.000000   \n",
      "75%         1800.000000          38.000000          20.000000   \n",
      "max        30000.000000         105.000000         105.000000   \n",
      "\n",
      "       product_width_cm  \n",
      "count      38279.000000  \n",
      "mean          23.153322  \n",
      "std           11.868536  \n",
      "min            8.000000  \n",
      "25%           15.000000  \n",
      "50%           20.000000  \n",
      "75%           30.000000  \n",
      "max          118.000000  \n"
     ]
    }
   ],
   "source": [
    "print(df.info())\n",
    "print(df.describe())"
   ]
  },
  {
   "cell_type": "code",
   "execution_count": 21,
   "id": "04078b3f-7c07-4d10-a76e-884137906c37",
   "metadata": {},
   "outputs": [
    {
     "name": "stdout",
     "output_type": "stream",
     "text": [
      "       order_id    product_id     seller_id  price  shipping_charges\n",
      "0  u6rPMRAYIGig  1slxdgbgWFax  3jwvL6ihC45G  24.10             20.90\n",
      "1  ohY8f4FEbX19  77PgsiElQLeB  GlLj704QXlDB  42.89             12.28\n",
      "2  I28liQek73i2  QVlD26X1y7NI  V3iKL8r9W9NR  50.21             67.11\n"
     ]
    }
   ],
   "source": [
    "df2 = pd.read_csv(\"df_OrderItems.csv\")\n",
    "print(df2.head(3))"
   ]
  },
  {
   "cell_type": "code",
   "execution_count": 22,
   "id": "c9db02c6-a721-4c59-8a5c-6313e28f29fb",
   "metadata": {},
   "outputs": [
    {
     "name": "stdout",
     "output_type": "stream",
     "text": [
      "<class 'pandas.core.frame.DataFrame'>\n",
      "RangeIndex: 38279 entries, 0 to 38278\n",
      "Data columns (total 5 columns):\n",
      " #   Column            Non-Null Count  Dtype  \n",
      "---  ------            --------------  -----  \n",
      " 0   order_id          38279 non-null  object \n",
      " 1   product_id        38279 non-null  object \n",
      " 2   seller_id         38279 non-null  object \n",
      " 3   price             38279 non-null  float64\n",
      " 4   shipping_charges  38279 non-null  float64\n",
      "dtypes: float64(2), object(3)\n",
      "memory usage: 1.5+ MB\n",
      "None\n",
      "              price  shipping_charges\n",
      "count  38279.000000      38279.000000\n",
      "mean     342.499934         44.194071\n",
      "std      560.285949         37.738984\n",
      "min        0.850000          0.000000\n",
      "25%       59.880000         19.930000\n",
      "50%      136.900000         34.600000\n",
      "75%      399.200000         57.120000\n",
      "max     6729.000000        409.680000\n"
     ]
    }
   ],
   "source": [
    "print(df2.info())\n",
    "print(df2.describe())"
   ]
  },
  {
   "cell_type": "code",
   "execution_count": 23,
   "id": "ec9e42d2-a7cc-4d28-b47c-f7458f487d44",
   "metadata": {},
   "outputs": [
    {
     "name": "stdout",
     "output_type": "stream",
     "text": [
      "       order_id   customer_id order_purchase_timestamp    order_approved_at\n",
      "0  u6rPMRAYIGig  I74lXDOfoqsp      2017-11-18 12:29:57  2017-11-18 12:46:08\n",
      "1  ohY8f4FEbX19  47TuLHF2s7X5      2018-06-02 17:13:12  2018-06-02 20:12:23\n",
      "2  I28liQek73i2  dQ0dqI8Qwlj8      2018-01-08 11:01:30  2018-01-09 07:24:03\n"
     ]
    }
   ],
   "source": [
    "df3 = pd.read_csv(\"df_Orders.csv\")\n",
    "print(df3.head(3))"
   ]
  },
  {
   "cell_type": "code",
   "execution_count": 24,
   "id": "9c0d987b-e031-46fb-ba65-00b0d52336aa",
   "metadata": {},
   "outputs": [
    {
     "name": "stdout",
     "output_type": "stream",
     "text": [
      "<class 'pandas.core.frame.DataFrame'>\n",
      "RangeIndex: 38279 entries, 0 to 38278\n",
      "Data columns (total 4 columns):\n",
      " #   Column                    Non-Null Count  Dtype \n",
      "---  ------                    --------------  ----- \n",
      " 0   order_id                  38279 non-null  object\n",
      " 1   customer_id               38279 non-null  object\n",
      " 2   order_purchase_timestamp  38279 non-null  object\n",
      " 3   order_approved_at         38272 non-null  object\n",
      "dtypes: object(4)\n",
      "memory usage: 1.2+ MB\n",
      "None\n",
      "            order_id   customer_id order_purchase_timestamp  \\\n",
      "count          38279         38279                    38279   \n",
      "unique         38279         38279                    34255   \n",
      "top     u6rPMRAYIGig  I74lXDOfoqsp      2017-08-08 20:26:31   \n",
      "freq               1             1                       39   \n",
      "\n",
      "          order_approved_at  \n",
      "count                 38272  \n",
      "unique                33278  \n",
      "top     2017-08-08 20:43:31  \n",
      "freq                     39  \n"
     ]
    }
   ],
   "source": [
    "print(df3.info())\n",
    "print(df3.describe())"
   ]
  },
  {
   "cell_type": "code",
   "execution_count": 25,
   "id": "895fb26e-4e52-4ac4-a4f8-82fe9661ea00",
   "metadata": {},
   "outputs": [
    {
     "name": "stdout",
     "output_type": "stream",
     "text": [
      "       order_id  payment_sequential payment_type  payment_installments  \\\n",
      "0  u6rPMRAYIGig                   1  credit_card                     2   \n",
      "1  ohY8f4FEbX19                   1  credit_card                     1   \n",
      "2  I28liQek73i2                   1       wallet                     1   \n",
      "\n",
      "   payment_value  \n",
      "0         155.77  \n",
      "1           4.07  \n",
      "2         381.59  \n"
     ]
    }
   ],
   "source": [
    "df4 = pd.read_csv(\"df_Payments.csv\")\n",
    "print(df4.head(3))"
   ]
  },
  {
   "cell_type": "code",
   "execution_count": 26,
   "id": "e8940929-2629-4adc-a8e9-3bcb88c346ab",
   "metadata": {},
   "outputs": [
    {
     "name": "stdout",
     "output_type": "stream",
     "text": [
      "<class 'pandas.core.frame.DataFrame'>\n",
      "RangeIndex: 38279 entries, 0 to 38278\n",
      "Data columns (total 5 columns):\n",
      " #   Column                Non-Null Count  Dtype  \n",
      "---  ------                --------------  -----  \n",
      " 0   order_id              38279 non-null  object \n",
      " 1   payment_sequential    38279 non-null  int64  \n",
      " 2   payment_type          38279 non-null  object \n",
      " 3   payment_installments  38279 non-null  int64  \n",
      " 4   payment_value         38279 non-null  float64\n",
      "dtypes: float64(1), int64(2), object(2)\n",
      "memory usage: 1.5+ MB\n",
      "None\n",
      "       payment_sequential  payment_installments  payment_value\n",
      "count        38279.000000          38279.000000   38279.000000\n",
      "mean             1.096606              2.982105     267.698041\n",
      "std              0.742181              2.836529     366.310037\n",
      "min              1.000000              1.000000       0.030000\n",
      "25%              1.000000              1.000000      82.175000\n",
      "50%              1.000000              2.000000     171.930000\n",
      "75%              1.000000              4.000000     309.205000\n",
      "max             27.000000             24.000000   13664.080000\n"
     ]
    }
   ],
   "source": [
    "print(df4.info())\n",
    "print(df4.describe())"
   ]
  },
  {
   "cell_type": "code",
   "execution_count": 27,
   "id": "e7356b98-d5b8-4d37-b4fa-c20e1f59b157",
   "metadata": {},
   "outputs": [
    {
     "name": "stdout",
     "output_type": "stream",
     "text": [
      "     product_id product_category_name  product_weight_g  product_length_cm  \\\n",
      "0  1slxdgbgWFax                  toys              50.0               16.0   \n",
      "1  77PgsiElQLeB           electronics             200.0               21.0   \n",
      "2  QVlD26X1y7NI       furniture_decor            1000.0              100.0   \n",
      "\n",
      "   product_height_cm  product_width_cm  \n",
      "0                5.0              11.0  \n",
      "1                7.0              14.0  \n",
      "2                5.0              20.0  \n"
     ]
    }
   ],
   "source": [
    "df5 = pd.read_csv(\"df_Products.csv\")\n",
    "print(df5.head(3))"
   ]
  },
  {
   "cell_type": "code",
   "execution_count": 28,
   "id": "600a7d3a-8b11-4379-94ff-53205e1d0f5a",
   "metadata": {},
   "outputs": [
    {
     "name": "stdout",
     "output_type": "stream",
     "text": [
      "<class 'pandas.core.frame.DataFrame'>\n",
      "RangeIndex: 38279 entries, 0 to 38278\n",
      "Data columns (total 6 columns):\n",
      " #   Column                 Non-Null Count  Dtype  \n",
      "---  ------                 --------------  -----  \n",
      " 0   product_id             38279 non-null  object \n",
      " 1   product_category_name  38111 non-null  object \n",
      " 2   product_weight_g       38269 non-null  float64\n",
      " 3   product_length_cm      38269 non-null  float64\n",
      " 4   product_height_cm      38269 non-null  float64\n",
      " 5   product_width_cm       38269 non-null  float64\n",
      "dtypes: float64(4), object(2)\n",
      "memory usage: 1.8+ MB\n",
      "None\n",
      "       product_weight_g  product_length_cm  product_height_cm  \\\n",
      "count      38269.000000       38269.000000       38269.000000   \n",
      "mean        2118.472576          30.316366          16.504717   \n",
      "std         3827.606405          16.258049          13.370506   \n",
      "min            0.000000           7.000000           2.000000   \n",
      "25%          300.000000          18.000000           8.000000   \n",
      "50%          700.000000          25.000000          13.000000   \n",
      "75%         1800.000000          38.000000          20.000000   \n",
      "max        30000.000000         105.000000         105.000000   \n",
      "\n",
      "       product_width_cm  \n",
      "count      38269.000000  \n",
      "mean          23.154146  \n",
      "std           11.869977  \n",
      "min            8.000000  \n",
      "25%           15.000000  \n",
      "50%           20.000000  \n",
      "75%           30.000000  \n",
      "max          118.000000  \n"
     ]
    }
   ],
   "source": [
    "print(df5.info())\n",
    "print(df5.describe())"
   ]
  },
  {
   "cell_type": "code",
   "execution_count": 29,
   "id": "46a84e9d-3c18-4346-a344-2a51a59e7826",
   "metadata": {},
   "outputs": [
    {
     "data": {
      "text/plain": [
       "product_id               0\n",
       "product_category_name    0\n",
       "product_weight_g         0\n",
       "product_length_cm        0\n",
       "product_height_cm        0\n",
       "product_width_cm         0\n",
       "dtype: int64"
      ]
     },
     "execution_count": 29,
     "metadata": {},
     "output_type": "execute_result"
    }
   ],
   "source": [
    "df.isnull().sum()"
   ]
  },
  {
   "cell_type": "code",
   "execution_count": 30,
   "id": "df2235a8-3c2a-4441-96ab-ca5ebff134e0",
   "metadata": {},
   "outputs": [
    {
     "data": {
      "text/plain": [
       "order_id            0\n",
       "product_id          0\n",
       "seller_id           0\n",
       "price               0\n",
       "shipping_charges    0\n",
       "dtype: int64"
      ]
     },
     "execution_count": 30,
     "metadata": {},
     "output_type": "execute_result"
    }
   ],
   "source": [
    "df2.isnull().sum()"
   ]
  },
  {
   "cell_type": "code",
   "execution_count": 31,
   "id": "34b98551-7a20-4090-89db-02a0b49f9d6d",
   "metadata": {},
   "outputs": [
    {
     "data": {
      "text/plain": [
       "order_id                    0\n",
       "customer_id                 0\n",
       "order_purchase_timestamp    0\n",
       "order_approved_at           7\n",
       "dtype: int64"
      ]
     },
     "execution_count": 31,
     "metadata": {},
     "output_type": "execute_result"
    }
   ],
   "source": [
    "df3.isnull().sum()"
   ]
  },
  {
   "cell_type": "code",
   "execution_count": 32,
   "id": "bcfca939-a596-45d0-a5d5-893b620a24ef",
   "metadata": {},
   "outputs": [
    {
     "data": {
      "text/plain": [
       "order_id                0\n",
       "payment_sequential      0\n",
       "payment_type            0\n",
       "payment_installments    0\n",
       "payment_value           0\n",
       "dtype: int64"
      ]
     },
     "execution_count": 32,
     "metadata": {},
     "output_type": "execute_result"
    }
   ],
   "source": [
    "df4.isnull().sum()"
   ]
  },
  {
   "cell_type": "code",
   "execution_count": 33,
   "id": "74e75690-5ea5-43c4-a90a-6a1dd65a42cf",
   "metadata": {},
   "outputs": [
    {
     "data": {
      "text/plain": [
       "product_id                 0\n",
       "product_category_name    168\n",
       "product_weight_g          10\n",
       "product_length_cm         10\n",
       "product_height_cm         10\n",
       "product_width_cm          10\n",
       "dtype: int64"
      ]
     },
     "execution_count": 33,
     "metadata": {},
     "output_type": "execute_result"
    }
   ],
   "source": [
    "df5.isnull().sum()"
   ]
  },
  {
   "cell_type": "code",
   "execution_count": 34,
   "id": "258e7aee-99b4-4d51-906f-0790f504f175",
   "metadata": {},
   "outputs": [
    {
     "name": "stdout",
     "output_type": "stream",
     "text": [
      "product_id                 0\n",
      "product_category_name    168\n",
      "product_weight_g          10\n",
      "product_length_cm         10\n",
      "product_height_cm         10\n",
      "product_width_cm          10\n",
      "dtype: int64\n"
     ]
    },
    {
     "data": {
      "image/png": "[encoded data removed]",
      "text/plain": [
       "<Figure size 1000x600 with 1 Axes>"
      ]
     },
     "metadata": {},
     "output_type": "display_data"
    },
    {
     "name": "stdout",
     "output_type": "stream",
     "text": [
      "                       Missing Values  Percentage\n",
      "product_category_name             168    0.438883\n",
      "product_weight_g                   10    0.026124\n",
      "product_length_cm                  10    0.026124\n",
      "product_height_cm                  10    0.026124\n",
      "product_width_cm                   10    0.026124\n"
     ]
    }
   ],
   "source": [
    "missing_values_df5 = df5.isnull().sum()\n",
    "print(missing_values_df5)\n",
    "missing_percentage = (missing_values_df5 / len(df5)) * 100\n",
    "missing_data = pd.DataFrame({\n",
    "    'Missing Values': missing_values_df5,\n",
    "    'Percentage': missing_percentage\n",
    "})\n",
    "\n",
    "# Sort by percentage of missing values\n",
    "missing_data = missing_data.sort_values(by='Percentage', ascending=False)\n",
    "\n",
    "# Plot missing values as a bar plot for all columns\n",
    "plt.figure(figsize=(10, 6))\n",
    "plt.bar(missing_data.index, missing_data['Percentage'], color='pink')\n",
    "plt.xlabel('Columns', fontsize=20)\n",
    "plt.title('Missing Values Percentage per Column', fontsize=20)\n",
    "plt.ylabel('Percentage of Missing Values', fontsize=12)\n",
    "plt.xticks(rotation=50, ha='right')\n",
    "plt.tight_layout()\n",
    "\n",
    "# Show the plot\n",
    "plt.show()\n",
    "\n",
    "print(missing_data[missing_data['Missing Values'] > 0].sort_values(by='Percentage', ascending=False))\n"
   ]
  },
  {
   "cell_type": "code",
   "execution_count": 35,
   "id": "a0152ef1-6c87-449e-9b56-d837b7dd4372",
   "metadata": {},
   "outputs": [
    {
     "name": "stdout",
     "output_type": "stream",
     "text": [
      "order_id                    0\n",
      "customer_id                 0\n",
      "order_purchase_timestamp    0\n",
      "order_approved_at           7\n",
      "dtype: int64\n"
     ]
    },
    {
     "data": {
      "image/png": "[encoded data removed]",
      "text/plain": [
       "<Figure size 1000x600 with 1 Axes>"
      ]
     },
     "metadata": {},
     "output_type": "display_data"
    }
   ],
   "source": [
    "missing_values_df3 = df3.isnull().sum()\n",
    "print(missing_values_df3)\n",
    "missing_percentage = (missing_values_df3 / len(df3)) * 100\n",
    "missing_data = pd.DataFrame({\n",
    "    'Missing Values': missing_values_df3,\n",
    "    'Percentage': missing_percentage\n",
    "})\n",
    "\n",
    "# Sort by percentage of missing values\n",
    "missing_data = missing_data.sort_values(by='Percentage', ascending=False)\n",
    "\n",
    "# Plot missing values as a bar plot for all columns\n",
    "plt.figure(figsize=(10, 6))\n",
    "plt.bar(missing_data.index, missing_data['Percentage'], color='pink')\n",
    "plt.xlabel('Columns', fontsize=20)\n",
    "plt.title('Missing Values Percentage per Column', fontsize=20)\n",
    "plt.ylabel('Percentage of Missing Values', fontsize=12)\n",
    "plt.xticks(rotation=50, ha='right')\n",
    "plt.tight_layout()\n",
    "\n",
    "# Show the plot\n",
    "plt.show()\n",
    "\n",
    "\n",
    "# handling missing values\n",
    "\n"
   ]
  },
  {
   "cell_type": "code",
   "execution_count": 36,
   "id": "446347e0-d7e5-407f-8caa-c29538dcde90",
   "metadata": {
    "scrolled": true
   },
   "outputs": [],
   "source": [
    "df_cleaned = df5.dropna(thresh=len(df5)*0.5,axis=1)\n"
   ]
  },
  {
   "cell_type": "code",
   "execution_count": 37,
   "id": "37a07126-a95a-4597-89de-edb2f42a0cc9",
   "metadata": {},
   "outputs": [
    {
     "name": "stdout",
     "output_type": "stream",
     "text": [
      "<class 'pandas.core.frame.DataFrame'>\n",
      "RangeIndex: 38279 entries, 0 to 38278\n",
      "Data columns (total 6 columns):\n",
      " #   Column                 Non-Null Count  Dtype  \n",
      "---  ------                 --------------  -----  \n",
      " 0   product_id             38279 non-null  object \n",
      " 1   product_category_name  38111 non-null  object \n",
      " 2   product_weight_g       38269 non-null  float64\n",
      " 3   product_length_cm      38269 non-null  float64\n",
      " 4   product_height_cm      38269 non-null  float64\n",
      " 5   product_width_cm       38269 non-null  float64\n",
      "dtypes: float64(4), object(2)\n",
      "memory usage: 1.8+ MB\n",
      "None\n"
     ]
    }
   ],
   "source": [
    "print(df_cleaned.info())"
   ]
  },
  {
   "cell_type": "code",
   "execution_count": 38,
   "id": "33bb0cef-4cec-478b-a404-ba08a1c8b6f6",
   "metadata": {},
   "outputs": [
    {
     "name": "stdout",
     "output_type": "stream",
     "text": [
      "<class 'pandas.core.frame.DataFrame'>\n",
      "RangeIndex: 38279 entries, 0 to 38278\n",
      "Data columns (total 6 columns):\n",
      " #   Column                 Non-Null Count  Dtype  \n",
      "---  ------                 --------------  -----  \n",
      " 0   product_id             38279 non-null  object \n",
      " 1   product_category_name  38279 non-null  object \n",
      " 2   product_weight_g       38269 non-null  float64\n",
      " 3   product_length_cm      38269 non-null  float64\n",
      " 4   product_height_cm      38269 non-null  float64\n",
      " 5   product_width_cm       38269 non-null  float64\n",
      "dtypes: float64(4), object(2)\n",
      "memory usage: 1.8+ MB\n",
      "None\n"
     ]
    }
   ],
   "source": [
    "df_cleaned['product_category_name'] = df_cleaned['product_category_name'].fillna(df_cleaned['product_category_name'].mode()[0])\n",
    "print(df_cleaned.info())"
   ]
  },
  {
   "cell_type": "code",
   "execution_count": 39,
   "id": "7fcb8438-48b3-4b29-bca2-0b4b34856a61",
   "metadata": {},
   "outputs": [
    {
     "data": {
      "text/plain": [
       "product_id                0\n",
       "product_category_name     0\n",
       "product_weight_g         10\n",
       "product_length_cm        10\n",
       "product_height_cm        10\n",
       "product_width_cm         10\n",
       "dtype: int64"
      ]
     },
     "execution_count": 39,
     "metadata": {},
     "output_type": "execute_result"
    }
   ],
   "source": [
    "df_cleaned.isnull().sum()"
   ]
  },
  {
   "cell_type": "code",
   "execution_count": 40,
   "id": "975eb676-03de-44e8-9b26-caf87cbec61c",
   "metadata": {},
   "outputs": [],
   "source": [
    "df_cleaned['product_weight_g'] = df_cleaned['product_weight_g'].fillna(df_cleaned['product_weight_g'].median())"
   ]
  },
  {
   "cell_type": "code",
   "execution_count": 41,
   "id": "6bde15e7-58b6-47c6-9228-e6182436e7a6",
   "metadata": {},
   "outputs": [
    {
     "data": {
      "text/plain": [
       "product_id                 0\n",
       "product_category_name    168\n",
       "product_weight_g          10\n",
       "product_length_cm         10\n",
       "product_height_cm         10\n",
       "product_width_cm          10\n",
       "dtype: int64"
      ]
     },
     "execution_count": 41,
     "metadata": {},
     "output_type": "execute_result"
    }
   ],
   "source": [
    "df5.isnull().sum()"
   ]
  },
  {
   "cell_type": "code",
   "execution_count": 42,
   "id": "89146551-020b-469b-a615-257dbd92e81a",
   "metadata": {},
   "outputs": [],
   "source": [
    "df5['product_length_cm'] = df5['product_length_cm'].fillna(df5['product_length_cm'].median())"
   ]
  },
  {
   "cell_type": "code",
   "execution_count": 43,
   "id": "1bf0cc50-4684-4f8c-a2e3-8ec680df609e",
   "metadata": {},
   "outputs": [
    {
     "data": {
      "text/plain": [
       "product_id                 0\n",
       "product_category_name    168\n",
       "product_weight_g          10\n",
       "product_length_cm          0\n",
       "product_height_cm         10\n",
       "product_width_cm          10\n",
       "dtype: int64"
      ]
     },
     "execution_count": 43,
     "metadata": {},
     "output_type": "execute_result"
    }
   ],
   "source": [
    "df5.isnull().sum()"
   ]
  },
  {
   "cell_type": "code",
   "execution_count": 44,
   "id": "c0cb05f6-959e-496c-acdd-4b4b25b1ee7d",
   "metadata": {},
   "outputs": [],
   "source": [
    "df5['product_height_cm'] = df5['product_height_cm'].fillna(df5['product_height_cm'].median())"
   ]
  },
  {
   "cell_type": "code",
   "execution_count": 45,
   "id": "1abb0474-bfaf-4aea-8485-45bdf5018242",
   "metadata": {},
   "outputs": [
    {
     "data": {
      "text/plain": [
       "product_id                 0\n",
       "product_category_name    168\n",
       "product_weight_g          10\n",
       "product_length_cm          0\n",
       "product_height_cm          0\n",
       "product_width_cm          10\n",
       "dtype: int64"
      ]
     },
     "execution_count": 45,
     "metadata": {},
     "output_type": "execute_result"
    }
   ],
   "source": [
    "df5.isnull().sum()"
   ]
  },
  {
   "cell_type": "code",
   "execution_count": 46,
   "id": "d4e6abad-6e87-42bb-a4d8-2fd40b8d19de",
   "metadata": {},
   "outputs": [],
   "source": [
    "df5['product_width_cm'] = df5['product_width_cm'].fillna(df5['product_width_cm'].median())"
   ]
  },
  {
   "cell_type": "code",
   "execution_count": 47,
   "id": "4c94104d-9df3-4069-8ac2-b42e4aec0dd5",
   "metadata": {},
   "outputs": [
    {
     "data": {
      "text/plain": [
       "product_id                 0\n",
       "product_category_name    168\n",
       "product_weight_g          10\n",
       "product_length_cm          0\n",
       "product_height_cm          0\n",
       "product_width_cm           0\n",
       "dtype: int64"
      ]
     },
     "execution_count": 47,
     "metadata": {},
     "output_type": "execute_result"
    }
   ],
   "source": [
    "df5.isnull().sum()"
   ]
  },
  {
   "cell_type": "code",
   "execution_count": 48,
   "id": "32d54a3d-8d55-4af2-b563-9bd94006c6cc",
   "metadata": {},
   "outputs": [],
   "source": [
    "df3['order_approved_at'] = df3['order_approved_at'].fillna(df3['order_approved_at'].mode()[0])"
   ]
  },
  {
   "cell_type": "code",
   "execution_count": 49,
   "id": "c1a7c505-3bba-4065-a4da-3aeba24a0f30",
   "metadata": {},
   "outputs": [
    {
     "data": {
      "text/plain": [
       "order_id                    0\n",
       "customer_id                 0\n",
       "order_purchase_timestamp    0\n",
       "order_approved_at           0\n",
       "dtype: int64"
      ]
     },
     "execution_count": 49,
     "metadata": {},
     "output_type": "execute_result"
    }
   ],
   "source": [
    "df3.isnull().sum()"
   ]
  },
  {
   "cell_type": "code",
   "execution_count": 50,
   "id": "b564d382-11cd-4184-ab10-cf5e7d6b70e0",
   "metadata": {},
   "outputs": [
    {
     "data": {
      "text/plain": [
       "21675"
      ]
     },
     "execution_count": 50,
     "metadata": {},
     "output_type": "execute_result"
    }
   ],
   "source": [
    "df.duplicated().sum()"
   ]
  },
  {
   "cell_type": "code",
   "execution_count": 51,
   "id": "b01fcc68-fe32-41ed-8efd-39038690ce46",
   "metadata": {},
   "outputs": [
    {
     "data": {
      "text/plain": [
       "0"
      ]
     },
     "execution_count": 51,
     "metadata": {},
     "output_type": "execute_result"
    }
   ],
   "source": [
    "df2.duplicated().sum()"
   ]
  },
  {
   "cell_type": "code",
   "execution_count": 52,
   "id": "c0da0eab-43cb-4a06-9f9d-5c9403b60013",
   "metadata": {},
   "outputs": [
    {
     "data": {
      "text/plain": [
       "0"
      ]
     },
     "execution_count": 52,
     "metadata": {},
     "output_type": "execute_result"
    }
   ],
   "source": [
    "df3.duplicated().sum()"
   ]
  },
  {
   "cell_type": "code",
   "execution_count": 53,
   "id": "2f0a1437-22ae-401d-92f1-2593da30c50f",
   "metadata": {},
   "outputs": [
    {
     "data": {
      "text/plain": [
       "0"
      ]
     },
     "execution_count": 53,
     "metadata": {},
     "output_type": "execute_result"
    }
   ],
   "source": [
    "df4.duplicated().sum()\n"
   ]
  },
  {
   "cell_type": "code",
   "execution_count": 54,
   "id": "94e92530-f6b8-4d45-9d47-b4e6deffa311",
   "metadata": {},
   "outputs": [
    {
     "data": {
      "text/plain": [
       "21675"
      ]
     },
     "execution_count": 54,
     "metadata": {},
     "output_type": "execute_result"
    }
   ],
   "source": [
    "df5.duplicated().sum() # will not be handling duplicates because we chose to put mean and median to make our data clean and simpler  "
   ]
  },
  {
   "cell_type": "code",
   "execution_count": 55,
   "id": "7f35cd7a-4657-4327-81e2-13a48e399a3c",
   "metadata": {},
   "outputs": [
    {
     "data": {
      "image/png": "[encoded data removed]",
      "text/plain": [
       "<Figure size 1200x600 with 2 Axes>"
      ]
     },
     "metadata": {},
     "output_type": "display_data"
    }
   ],
   "source": [
    "plt.figure(figsize=(12, 6))\n",
    "\n",
    "# Box plot for 'price'\n",
    "plt.subplot(1, 2, 1)\n",
    "plt.boxplot(df2['price'], vert=False, patch_artist=True, boxprops=dict(facecolor=\"lightblue\"))\n",
    "plt.title(\"Box Plot for Price\", fontsize=14)\n",
    "plt.xlabel(\"Price\", fontsize=12)\n",
    "\n",
    "# Box plot for 'shipping_charges'\n",
    "plt.subplot(1, 2, 2)\n",
    "plt.boxplot(df2['shipping_charges'], vert=False, patch_artist=True, boxprops=dict(facecolor=\"lightgreen\"))\n",
    "plt.title(\"Box Plot for Shipping Charges\", fontsize=14)\n",
    "plt.xlabel(\"Shipping Charges\", fontsize=12)\n",
    "\n",
    "plt.tight_layout()\n",
    "plt.show()\n"
   ]
  },
  {
   "cell_type": "code",
   "execution_count": 56,
   "id": "9f4a2523-d992-4d3f-8427-88091cc227ee",
   "metadata": {},
   "outputs": [
    {
     "name": "stdout",
     "output_type": "stream",
     "text": [
      "Price - Lower bound: -1157.95, Upper bound: 2006.77\n",
      "Rows before: 38279, Rows after (price outliers removed): 37066\n",
      "Shipping Charges - Lower bound: -108.82999999999998, Upper bound: 204.466\n",
      "Rows before: 38279, Rows after (shipping charges outliers removed): 37992\n"
     ]
    }
   ],
   "source": [
    "# Function to remove outliers using the IQR method\n",
    "def handle_outliers_iqr(df2, column):\n",
    "    Q1 = df2[column].quantile(0.10)  # 10th percentile\n",
    "    Q3 = df2[column].quantile(0.90)  # 90th percentile\n",
    "    IQR = Q3 - Q1  # Interquartile range\n",
    "    lower_bound = Q1 - 1.5 * IQR  # Lower bound\n",
    "    upper_bound = Q3 + 1.5 * IQR  # Upper bound\n",
    "    \n",
    "    # Filter rows within the bounds\n",
    "    df2_filtered = df2[(df2[column] >= lower_bound) & (df2[column] <= upper_bound)]\n",
    "    return df2_filtered, lower_bound, upper_bound\n",
    "\n",
    "# Apply the function to the 'price' column\n",
    "df2_cleaned_price, lower_bound_price, upper_bound_price = handle_outliers_iqr(df2, 'price')\n",
    "print(f\"Price - Lower bound: {lower_bound_price}, Upper bound: {upper_bound_price}\")\n",
    "print(f\"Rows before: {len(df2)}, Rows after (price outliers removed): {len(df2_cleaned_price)}\")\n",
    "\n",
    "# Apply the function to the 'shipping_charges' column\n",
    "df2_cleaned_shipping, lower_bound_shipping, upper_bound_shipping = handle_outliers_iqr(df2, 'shipping_charges')\n",
    "print(f\"Shipping Charges - Lower bound: {lower_bound_shipping}, Upper bound: {upper_bound_shipping}\")\n",
    "print(f\"Rows before: {len(df2)}, Rows after (shipping charges outliers removed): {len(df2_cleaned_shipping)}\")\n",
    "\n",
    "# Save the cleaned datasets\n",
    "#df2_cleaned_price.to_csv('/mnt/data/df2_cleaned_price.csv', index=False)\n",
    "#df2_cleaned_shipping.to_csv('/mnt/data/df2_cleaned_shipping.csv', index=False)\n",
    "\n"
   ]
  },
  {
   "cell_type": "code",
   "execution_count": 57,
   "id": "eff843fc-b30a-406f-a6f1-a419605e9fb0",
   "metadata": {},
   "outputs": [
    {
     "data": {
      "image/png": "[encoded data removed]",
      "text/plain": [
       "<Figure size 1000x600 with 1 Axes>"
      ]
     },
     "metadata": {},
     "output_type": "display_data"
    }
   ],
   "source": [
    "plt.figure(figsize=(10, 6))\n",
    "plt.boxplot(df4['payment_value'], vert=False, patch_artist=True, boxprops=dict(facecolor=\"lightblue\"))\n",
    "plt.title(\"Box Plot for Payment Value (df4)\", fontsize=14)\n",
    "plt.xlabel(\"Payment Value\", fontsize=12)\n",
    "plt.show()"
   ]
  },
  {
   "cell_type": "code",
   "execution_count": 58,
   "id": "3ac93462-6882-4998-83e8-0adfff42e8ff",
   "metadata": {},
   "outputs": [
    {
     "name": "stdout",
     "output_type": "stream",
     "text": [
      "Payment Value - Lower bound: -765.6700000000018, Upper bound: 1373.8500000000029\n",
      "Number of rows before removing outliers: 38279\n",
      "Number of rows after removing outliers: 37527\n"
     ]
    }
   ],
   "source": [
    "# Function to remove outliers using the IQR method\n",
    "def handle_outliers_iqr(df4, column):\n",
    "    Q1 = df4[column].quantile(0.10)  # 10th percentile\n",
    "    Q3 = df4[column].quantile(0.90)  # 90th percentile\n",
    "    IQR = Q3 - Q1  # Interquartile range\n",
    "    lower_bound = Q1 - 1.5 * IQR  # Lower bound\n",
    "    upper_bound = Q3 + 1.5 * IQR  # Upper bound\n",
    "    \n",
    "    # Filter rows within the bounds\n",
    "    df4_filtered = df4[(df4[column] >= lower_bound) & (df4[column] <= upper_bound)]\n",
    "    return df4_filtered, lower_bound, upper_bound\n",
    "\n",
    "# Applying the function to the 'payment_value' column\n",
    "df4_cleaned, lower_bound, upper_bound = handle_outliers_iqr(df4, 'payment_value')\n",
    "\n",
    "# Print summary\n",
    "print(f\"Payment Value - Lower bound: {lower_bound}, Upper bound: {upper_bound}\")\n",
    "print(f\"Number of rows before removing outliers: {len(df4)}\")\n",
    "print(f\"Number of rows after removing outliers: {len(df4_cleaned)}\")\n",
    "\n",
    "# Save the cleaned dataset\n",
    "#df4_cleaned.to_csv('/mnt/data/df4_cleaned.csv', index=False)\n"
   ]
  },
  {
   "cell_type": "code",
   "execution_count": 59,
   "id": "86acd228-0e39-4c58-b6d5-0da164fc93e1",
   "metadata": {},
   "outputs": [],
   "source": [
    "import sqlite3\n",
    "import csv"
   ]
  },
  {
   "cell_type": "code",
   "execution_count": 60,
   "id": "aa27ce72-ccb6-4f58-902a-ae712746a2cf",
   "metadata": {},
   "outputs": [],
   "source": [
    "conn = sqlite3.connect('e-commerce_project.db')\n",
    "cursor = conn.cursor()"
   ]
  },
  {
   "cell_type": "code",
   "execution_count": 65,
   "id": "c05d3739-d7f9-4d6f-a3a9-baf9de0b6930",
   "metadata": {},
   "outputs": [
    {
     "data": {
      "text/plain": [
       "<sqlite3.Cursor at 0x168e467c0>"
      ]
     },
     "execution_count": 65,
     "metadata": {},
     "output_type": "execute_result"
    }
   ],
   "source": [
    "cursor.execute('''\n",
    "CREATE TABLE IF NOT EXISTS customers (\n",
    "    customer_id TEXT PRIMARY KEY NOT NULL,\n",
    "    customer_zip_code_prefix INTEGER NOT NULL,\n",
    "    customer_city TEXT NOT NULL,\n",
    "    customer_state TEXT NOT NULL\n",
    ")\n",
    "''')\n"
   ]
  },
  {
   "cell_type": "code",
   "execution_count": 67,
   "id": "7729dd2a-4be0-4e94-acce-4d5a00451879",
   "metadata": {},
   "outputs": [
    {
     "data": {
      "text/plain": [
       "<sqlite3.Cursor at 0x168e467c0>"
      ]
     },
     "execution_count": 67,
     "metadata": {},
     "output_type": "execute_result"
    }
   ],
   "source": [
    "cursor.execute('''\n",
    "CREATE TABLE IF NOT EXISTS order_items (\n",
    "    order_id TEXT NOT NULL,\n",
    "    product_id TEXT NOT NULL,\n",
    "    seller_id TEXT NOT NULL,\n",
    "    price REAL NOT NULL,\n",
    "    shipping_charges REAL NOT NULL,\n",
    "    FOREIGN KEY (order_id) REFERENCES orders (order_id),\n",
    "    PRIMARY KEY (order_id, product_id)\n",
    ")\n",
    "''')\n"
   ]
  },
  {
   "cell_type": "code",
   "execution_count": 69,
   "id": "767d8e37-c817-498b-b24c-2c6698cb4e66",
   "metadata": {},
   "outputs": [
    {
     "data": {
      "text/plain": [
       "<sqlite3.Cursor at 0x168e467c0>"
      ]
     },
     "execution_count": 69,
     "metadata": {},
     "output_type": "execute_result"
    }
   ],
   "source": [
    "cursor.execute('''\n",
    "CREATE TABLE IF NOT EXISTS orders (\n",
    "    order_id TEXT PRIMARY KEY NOT NULL,\n",
    "    customer_id TEXT NOT NULL,\n",
    "    order_purchase_timestamp DATETIME NOT NULL,\n",
    "    order_approved_at DATETIME,\n",
    "    FOREIGN KEY (customer_id) REFERENCES customers (customer_id)\n",
    ")\n",
    "''')\n"
   ]
  },
  {
   "cell_type": "code",
   "execution_count": 77,
   "id": "d2f5bc48-6a38-423a-9239-564855d8b886",
   "metadata": {},
   "outputs": [
    {
     "data": {
      "text/plain": [
       "<sqlite3.Cursor at 0x168e467c0>"
      ]
     },
     "execution_count": 77,
     "metadata": {},
     "output_type": "execute_result"
    }
   ],
   "source": [
    "cursor.execute('''\n",
    "CREATE TABLE IF NOT EXISTS payments (\n",
    "    order_id TEXT NOT NULL,\n",
    "    payment_sequential INTEGER NOT NULL,\n",
    "    payment_type TEXT NOT NULL,\n",
    "    payment_installments INTEGER NOT NULL,\n",
    "    payment_value REAL NOT NULL,\n",
    "    FOREIGN KEY (order_id) REFERENCES orders (order_id),\n",
    "    PRIMARY KEY (order_id, payment_sequential)\n",
    ")\n",
    "''')\n"
   ]
  },
  {
   "cell_type": "code",
   "execution_count": 79,
   "id": "e0d10231-6da7-4e60-a599-47d8324830b7",
   "metadata": {},
   "outputs": [
    {
     "data": {
      "text/plain": [
       "<sqlite3.Cursor at 0x168e467c0>"
      ]
     },
     "execution_count": 79,
     "metadata": {},
     "output_type": "execute_result"
    }
   ],
   "source": [
    "cursor.execute('''\n",
    "CREATE TABLE IF NOT EXISTS payments (\n",
    "    order_id TEXT NOT NULL,\n",
    "    payment_sequential INTEGER NOT NULL,\n",
    "    payment_type TEXT NOT NULL,\n",
    "    payment_installments INTEGER NOT NULL,\n",
    "    payment_value REAL NOT NULL,\n",
    "    FOREIGN KEY (order_id) REFERENCES orders (order_id),\n",
    "    PRIMARY KEY (order_id, payment_sequential)\n",
    ")\n",
    "''')"
   ]
  },
  {
   "cell_type": "code",
   "execution_count": 81,
   "id": "9158c38e-98e6-44ee-95a1-d85deaa61fd5",
   "metadata": {},
   "outputs": [
    {
     "name": "stdout",
     "output_type": "stream",
     "text": [
      "Cleaned dataset saved as 'df_Customers_cleaned.csv'\n"
     ]
    }
   ],
   "source": [
    "df_cleaned.to_csv('df_Customer_cleaned.csv', index=False)\n",
    "\n",
    "print(\"Cleaned dataset saved as 'df_Customers_cleaned.csv'\")"
   ]
  },
  {
   "cell_type": "code",
   "execution_count": 83,
   "id": "042621df-315d-4222-a5c9-05fe9ed2310e",
   "metadata": {},
   "outputs": [
    {
     "name": "stdout",
     "output_type": "stream",
     "text": [
      "Cleaned dataset saved as 'df_OrderItems_cleaned.csv'\n"
     ]
    }
   ],
   "source": [
    "# Save df2 to a new CSV file\n",
    "df2.to_csv('df2_OrderItems_cleaned.csv', index=False)\n",
    "print(\"Cleaned dataset saved as 'df_OrderItems_cleaned.csv'\")"
   ]
  },
  {
   "cell_type": "code",
   "execution_count": 85,
   "id": "4e0143d4-12cf-4777-86ee-d880f8054b5f",
   "metadata": {},
   "outputs": [
    {
     "name": "stdout",
     "output_type": "stream",
     "text": [
      "Cleaned dataset saved as 'df_Orders_cleaned.csv'\n"
     ]
    }
   ],
   "source": [
    "df3.to_csv('df3_Orders_cleaned.csv', index=False)\n",
    "print(\"Cleaned dataset saved as 'df_Orders_cleaned.csv'\")"
   ]
  },
  {
   "cell_type": "code",
   "execution_count": 87,
   "id": "129fb0fb-1d94-4ef6-8d32-7279972f64bf",
   "metadata": {},
   "outputs": [
    {
     "name": "stdout",
     "output_type": "stream",
     "text": [
      "Cleaned dataset saved as 'df_Payments_cleaned.csv'\n"
     ]
    }
   ],
   "source": [
    "df4.to_csv('df4_Payments_cleaned.csv', index=False)\n",
    "print(\"Cleaned dataset saved as 'df_Payments_cleaned.csv'\")"
   ]
  },
  {
   "cell_type": "code",
   "execution_count": 89,
   "id": "ea5b092a-093e-4be5-86aa-ec74d601cd03",
   "metadata": {},
   "outputs": [
    {
     "name": "stdout",
     "output_type": "stream",
     "text": [
      "Cleaned dataset saved as 'df_Products_cleaned.csv'\n"
     ]
    }
   ],
   "source": [
    "df5.to_csv('df5_Products_cleaned.csv', index=False)\n",
    "print(\"Cleaned dataset saved as 'df_Products_cleaned.csv'\")"
   ]
  },
  {
   "cell_type": "code",
   "execution_count": null,
   "id": "f47ae68e-7f3d-4eb8-8c13-8675bc98d125",
   "metadata": {},
   "outputs": [],
   "source": [
    "# Adding records to the FilmDetails_cleaned table\n",
    "\n",
    "df_path = 'FilmDetails_cleaned.csv'\n",
    "\n",
    "# Open the CSV file with UTF-8 encoding\n",
    "with open(df2_path, 'r', encoding='utf-8') as csvfile:\n",
    "    # Using DictReader to read each row as a dictionary with column names as keys\n",
    "    reader = csv.DictReader(csvfile)\n",
    "    # Inserting the records into the FilmDetails_cleaned table\n",
    "    cursor.executemany('''\n",
    "    INSERT OR IGNORE INTO FilmDetails_cleaned (id, director, top_billed, budget_usd, revenue_usd)\n",
    "    VALUES (:id, :director, :top_billed, :budget_usd, :revenue_usd)\n",
    "    ''', reader)\n",
    "\n",
    "# Save changes to the database by committing them\n",
    "conn.commit()"
   ]
  }
 ],
 "metadata": {
  "kernelspec": {
   "display_name": "Python 3 (ipykernel)",
   "language": "python",
   "name": "python3"
  },
  "language_info": {
   "codemirror_mode": {
    "name": "ipython",
    "version": 3
   },
   "file_extension": ".py",
   "mimetype": "text/x-python",
   "name": "python",
   "nbconvert_exporter": "python",
   "pygments_lexer": "ipython3",
   "version": "3.12.4"
  }
 },
 "nbformat": 4,
 "nbformat_minor": 5
}
